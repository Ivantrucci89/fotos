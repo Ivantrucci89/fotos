{
 "cells": [
  {
   "cell_type": "code",
   "execution_count": null,
   "metadata": {
    "collapsed": true
   },
   "outputs": [],
   "source": [
    "# This notebook provides an example of importing a trained Caffe model and evaluating the performance of the model\n",
    "# on a subset of the ImageNet data set.  The code below makes several assumptions:\n",
    "#\n",
    "# 1.) The ImageNet example files obtained from the SAS support web site have been unpacked in the \n",
    "#     directory $IMAGENET_EXAMPLE\n",
    "#\n",
    "# 2.) You have already started a CAS server and you know the port number associated with that server\n",
    "#\n",
    "# 3.) Your operating system is either Linux or Windows\n",
    "#\n",
    "# 4.) You have obtained the model definition file models.zip from the SAS support web site and\n",
    "#     and unpacked the contents in the directory $IMAGENET_EXAMPLE \n",
    "#\n",
    "# 5.) You have obtained model parameter file(s) from the SAS support web site (e.g. vgg16.zip) and\n",
    "#     unpacked the contents in $MODEL_ROOT\n",
    "#\n",
    "# 6.) You have a downloaded a subset of the ImageNet data set to $IMAGE_ROOT/$IMAGE_CLASS where $IMAGE_CLASS is\n",
    "#     one of the image classes defined by ImageNet.  This program uses $IMAGE_CLASS=ladybug.\n",
    "#\n",
    "# 7.) Windows paths are specified in this form\n",
    "#          <drive letter>:\\\\directory1\\\\subdirectory1\\\\... (e.g. c:\\\\imagenet\\\\images)\n",
    "#\n",
    "# 8.) Linux paths are specified in this form\n",
    "#           /directory1/subdirectory1/... (e.g. /imagenet/images)"
   ]
  },
  {
   "cell_type": "code",
   "execution_count": null,
   "metadata": {
    "collapsed": true
   },
   "outputs": [],
   "source": [
    "# import packages/functions needed\n",
    "from swat import *\n",
    "import sys"
   ]
  },
  {
   "cell_type": "code",
   "execution_count": null,
   "metadata": {
    "collapsed": true
   },
   "outputs": [],
   "source": [
    "# define variables used to control example\n",
    "#    imagePath = path to directory where ImageNet images are stored\n",
    "#    modelPath = path to directory where converted Caffe model(s) are stored\n",
    "#    modelName = name of Caffe model file\n",
    "#    casHost = full name of CAS server host (e.g. cashost.xxx.yyy.zzz)\n",
    "#    casPort = port associated with CAS server (e.g. 12345)\n",
    "#    serverOsType = CAS server operating system type (WINDOWS or LINUX) \n",
    "\n",
    "imagePath = \"<your_image_path>\"             # string\n",
    "modelPath = \"<your_model_path>\"             # string\n",
    "modelName = \"<LeNet_model_file_name>\"       # string, valid choices: ResNet50, ResNet101, ResNet152, VGG16, VGG19\n",
    "casHost = \"<CAS_host_name>\"                 # string\n",
    "casPort = <CAS_port>                        # integer\n",
    "serverOsType = \"<CAS server OS>\"            # string - either WINDOWS or LINUX\n",
    "\n",
    "if (serverOsType == 'WINDOWS'):\n",
    "    pathSeparator = '\\\\'\n",
    "elif (serverOsType == 'LINUX'):\n",
    "    pathSeparator = '/'\n",
    "else:\n",
    "    sys.exit(\"ERROR: unsupported operating system\")"
   ]
  },
  {
   "cell_type": "code",
   "execution_count": null,
   "metadata": {
    "collapsed": true
   },
   "outputs": [],
   "source": [
    "# import pre-defined models\n",
    "from model_defs import *"
   ]
  },
  {
   "cell_type": "code",
   "execution_count": null,
   "metadata": {},
   "outputs": [],
   "source": [
    "# create CAS session and load action sets\n",
    "s = CAS(casHost, casPort )\n",
    "s.sessionprop.setsessopt(caslib='CASUSER', timeout=31535000)\n",
    "s.loadactionset('image')\n",
    "s.loadactionset('deepLearn')"
   ]
  },
  {
   "cell_type": "code",
   "execution_count": null,
   "metadata": {},
   "outputs": [],
   "source": [
    "# load subset of ImageNet data\n",
    "s.loadImages(casout={\"name\":\"imagenet\", \"replace\":True}, path=imagePath)"
   ]
  },
  {
   "cell_type": "code",
   "execution_count": null,
   "metadata": {},
   "outputs": [],
   "source": [
    "# resize images to 224 x 224 pixels\n",
    "s.processImages(table=dict(name=\"imagenet\"), \n",
    "                casout={\"name\":\"imagenet_resize\", \"replace\":True}, \n",
    "                imagefunctions=[dict(functionoptions=dict(functiontype='RESIZE',w=224, h=224))])"
   ]
  },
  {
   "cell_type": "code",
   "execution_count": null,
   "metadata": {},
   "outputs": [],
   "source": [
    "# add library for Caffe models\n",
    "s.table.addcaslib(activeonadd=False,datasource={'srctype':'path'},\n",
    "                  name='modelhome',path=modelPath,subdirectories=True)"
   ]
  },
  {
   "cell_type": "code",
   "execution_count": null,
   "metadata": {},
   "outputs": [],
   "source": [
    "# load labels for output neurons\n",
    "s.table.loadtable(caslib='modelhome',\n",
    "                  casout={'caslib':'CASUSER','name':'imagenet_labels',\"replace\":True},\n",
    "                  importoptions={'filetype':'basesas'},\n",
    "                  path='newlabel.sas7bdat',\n",
    "                  promote=False)"
   ]
  },
  {
   "cell_type": "code",
   "execution_count": null,
   "metadata": {
    "collapsed": true
   },
   "outputs": [],
   "source": [
    "# instantiate model\n",
    "if (modelName == 'ResNet50'):\n",
    "    ResNet50_Model(s,inputCropType='NONE')\n",
    "    modelFile = modelPath + pathSeparator + \"ResNet-50-model.caffemodel.h5\"\n",
    "elif (modelName == 'ResNet101'):\n",
    "    ResNet101_Model(s,inputCropType='NONE')\n",
    "    modelFile = modelPath + pathSeparator + \"ResNet-101-model.caffemodel.h5\"\n",
    "elif (modelName == 'ResNet152'):\n",
    "    ResNet152_Model(s,inputCropType='NONE')\n",
    "    modelFile = modelPath + pathSeparator + \"ResNet-152-model.caffemodel.h5\"\n",
    "elif (modelName == 'VGG16'):\n",
    "    VGG16_Model(s,inputCropType='NONE')\n",
    "    modelFile = modelPath + pathSeparator + \"VGG_ILSVRC_16_layers.caffemodel.h5\"\n",
    "elif (modelName == 'VGG19'):\n",
    "    VGG19_Model(s,inputCropType='NONE')\n",
    "    modelFile = modelPath + pathSeparator + \"VGG_ILSVRC_19_layers.caffemodel.h5\"\n",
    "else:\n",
    "    print('ERROR: You specified a model that is not yet supported')"
   ]
  },
  {
   "cell_type": "code",
   "execution_count": null,
   "metadata": {},
   "outputs": [],
   "source": [
    "# load weights from Caffe model\n",
    "s.dlimportmodelweights(model=modelName,\n",
    "                       modelWeights={'caslib':'CASUSER','name':'tkdlWeights','replace':1},\n",
    "                       labelTable={'caslib':'CASUSER','name':'imagenet_labels','vars':['levid','levname']},\n",
    "                       formatType=\"CAFFE\",\n",
    "                       weightFilePath=modelFile)"
   ]
  },
  {
   "cell_type": "code",
   "execution_count": null,
   "metadata": {},
   "outputs": [],
   "source": [
    "# generate the SAS code for applying labels to images\n",
    "pString1 = \"_label_ = \"\n",
    "pLabel = \"'ladybug\"\n",
    "pString2 = \"';\"\n",
    "programString = pString1 + pLabel.ljust(51) + pString2"
   ]
  },
  {
   "cell_type": "code",
   "execution_count": null,
   "metadata": {},
   "outputs": [],
   "source": [
    "# score the validation data\n",
    "s.dlscore(model=modelName,\n",
    "          initWeights={'caslib':'CASUSER','name':'tkdlWeights'},\n",
    "          table={'caslib':'CASUSER','name':'imagenet_resize',\n",
    "                 'compvars':'_label_','comppgm':programString},\n",
    "          copyvars=['_label_'],\n",
    "          topProbs = 5,\n",
    "          miniBatchSize = 3,\n",
    "          casout={'caslib':'CASUSER','name':'ScoredValidation', 'replace':True})"
   ]
  },
  {
   "cell_type": "code",
   "execution_count": null,
   "metadata": {
    "collapsed": true
   },
   "outputs": [],
   "source": [
    "# terminate CAS session\n",
    "s.close()"
   ]
  }
 ],
 "metadata": {
  "kernelspec": {
   "display_name": "Python 3",
   "language": "python",
   "name": "python3"
  },
  "language_info": {
   "codemirror_mode": {
    "name": "ipython",
    "version": 3
   },
   "file_extension": ".py",
   "mimetype": "text/x-python",
   "name": "python",
   "nbconvert_exporter": "python",
   "pygments_lexer": "ipython3",
   "version": "3.6.1"
  }
 },
 "nbformat": 4,
 "nbformat_minor": 2
}
